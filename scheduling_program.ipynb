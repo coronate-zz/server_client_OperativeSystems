{
 "cells": [
  {
   "cell_type": "code",
   "execution_count": 33,
   "metadata": {},
   "outputs": [],
   "source": [
    "import socket\n",
    "import sys\n",
    "from _thread import *\n",
    "import threading\n",
    "import time\n",
    "from queue import Queue\n",
    "\n",
    "NUM_USERS  =  10\n",
    "HOST      = ''  #Cuando HOST == '' se permite cualquier tipo de entrada\n",
    "PORT      = 4555\n",
    "LISTEN    = 10\n",
    "NUM_USER  = 30\n",
    "LOCALHOST = \"127.0.0.1\""
   ]
  },
  {
   "cell_type": "code",
   "execution_count": 103,
   "metadata": {},
   "outputs": [],
   "source": [
    "class serverClass:\n",
    "    host_name = \"NA\"\n",
    "    port_name = \"NA\"\n",
    "    connServer = \"NA\"\n",
    "    addr = \"NA\"\n",
    "    def __init__( self, host, port):\n",
    "        self.host_name = host\n",
    "        self.port_name = port\n",
    "        self.server =  socket.socket( socket.AF_INET, socket.SOCK_STREAM)\n",
    "        self.server.bind((HOST, PORT))\n",
    "        self.server.listen(LISTEN)\n",
    "        \n",
    "        \n",
    "    def conectar(self):\n",
    "        self.connServer, self.addr = self.server.accept()\n",
    "        self.connServer.send(str.encode('Welcome, type your info\\n'))\n",
    "        while True:\n",
    "            data = self.connServer.recv(2048)\n",
    "            reply = 'Server output: '+ data.decode('utf-8')\n",
    "            if not data:\n",
    "                break\n",
    "            self.connServer.sendall(str.encode(reply))\n",
    "            #self.operaciones()\n",
    "        print('Connected with ' + self.addr[0] + ':' + str(self.addr[1]))\n",
    "        self.connServer.close()\n",
    "        \n",
    "        \n",
    "    def operaciones(self):\n",
    "        #Solo vamos a matar un poco de tiempo mientras se ejecuta la conexion\n",
    "        print( \"OPERANDO EN SERVER \")\n",
    "        print(\"\")\n",
    "        \n",
    "        \n",
    "\n",
    "\n"
   ]
  },
  {
   "cell_type": "code",
   "execution_count": 104,
   "metadata": {},
   "outputs": [
    {
     "name": "stdout",
     "output_type": "stream",
     "text": [
      "\n",
      "7844\n",
      "NA\n",
      "NA\n"
     ]
    }
   ],
   "source": [
    "miServidor = serverClass(HOST, PORT)\n",
    "print(miServidor.host_name)\n",
    "print(miServidor.port_name)\n",
    "print(miServidor.connServer)\n",
    "print(miServidor.addr)\n",
    "\n"
   ]
  },
  {
   "cell_type": "markdown",
   "metadata": {},
   "source": [
    "El proyecto se desarrollara usando dos clases principales. La clase serverMultithread y la clase usuarioMultithread.\n",
    "El serverMulthithread abre una conexion en el localhost en el puerto PORT. Caundo esto sucede la clase usaurio enviara mensajes para conectarse con serverMuthithread.\n",
    "\n"
   ]
  },
  {
   "cell_type": "code",
   "execution_count": 34,
   "metadata": {},
   "outputs": [],
   "source": [
    "\n",
    "\n",
    "class serverMultithread:\n",
    "    \"\"\"\n",
    "    La siguiente clase abre un servidor que puede conectarse con diferentes usuarios al mismo tiempo\n",
    "    La manera en la que funciona es que una vez se inicia una conexion con algun usuario se crea un hilo\n",
    "    para hacer comunicacion con el usuario.\n",
    "\n",
    "    El metodo conectar utiliza el metodo server.accept de la paqueteria de sockets. accpet acepta alguna conexion\n",
    "    en cuanto un usario intenta conectarse al servidor a traves del mismo puerto.\n",
    "    Cuando un usuario se conecta se llama al metodo threaded_client el cual envia mensajes al usuario a traves\n",
    "    de hilos.\n",
    "\n",
    "    \"\"\"\n",
    "    host_name = \"NA\"\n",
    "    port_name = \"NA\"\n",
    "    connServer = \"NA\"\n",
    "    addr = \"NA\"\n",
    "    def __init__( self, host, port):\n",
    "        self.host_name = host\n",
    "        self.port_name = port\n",
    "        self.server =  socket.socket( socket.AF_INET, socket.SOCK_STREAM)\n",
    "        self.server.bind((HOST, PORT))\n",
    "        self.server.listen(LISTEN)\n",
    "        \n",
    "        \n",
    "    def conectar(self):\n",
    "        while True:\n",
    "            self.connServer, self.addr = self.server.accept()\n",
    "            print('Connected with ' + str(self.addr[0]) + ':' + str(self.addr[1]))\n",
    "            #para cada cliente se creara un nuevo thread.\n",
    "            start_new_thread( self.threaded_client , (self.connServer, ))\n",
    "        \n",
    "        \n",
    "    def threaded_client( self, conn ):\n",
    "        conn.send(str.encode('Welcome, type your info\\n'))\n",
    "        while True:\n",
    "            data = conn.recv(2048)\n",
    "            reply = 'Server output: '+ data.decode('utf-8')\n",
    "            if not data:\n",
    "                break\n",
    "            conn.sendall(str.encode(reply))\n",
    "            #self.operaciones()\n",
    "        conn.close()\n",
    "        \n",
    "        \n",
    "    def operaciones(self):\n",
    "        #Solo vamos a matar un poco de tiempo mientras se ejecuta la conexion\n",
    "        print( \"OPERANDO EN SERVER \")\n",
    "        print(\"\")"
   ]
  },
  {
   "cell_type": "code",
   "execution_count": 160,
   "metadata": {},
   "outputs": [
    {
     "name": "stdout",
     "output_type": "stream",
     "text": [
      "\n",
      "4443\n",
      "NA\n",
      "NA\n"
     ]
    }
   ],
   "source": [
    "miServidor  = serverMultithread( HOST, PORT)\n",
    "print(miServidor.host_name)\n",
    "print(miServidor.port_name)\n",
    "print(miServidor.connServer)\n",
    "print(miServidor.addr)"
   ]
  },
  {
   "cell_type": "markdown",
   "metadata": {},
   "source": []
  },
  {
   "cell_type": "code",
   "execution_count": 161,
   "metadata": {},
   "outputs": [
    {
     "name": "stdout",
     "output_type": "stream",
     "text": [
      "Connected with 127.0.0.1:49590\n",
      "Connected with 127.0.0.1:49592\n"
     ]
    },
    {
     "ename": "KeyboardInterrupt",
     "evalue": "",
     "output_type": "error",
     "traceback": [
      "\u001b[0;31m---------------------------------------------------------------------------\u001b[0m",
      "\u001b[0;31mKeyboardInterrupt\u001b[0m                         Traceback (most recent call last)",
      "\u001b[0;32m<ipython-input-161-04d28d64e008>\u001b[0m in \u001b[0;36m<module>\u001b[0;34m()\u001b[0m\n\u001b[0;32m----> 1\u001b[0;31m \u001b[0mmiServidor\u001b[0m\u001b[0;34m.\u001b[0m\u001b[0mconectar\u001b[0m\u001b[0;34m(\u001b[0m\u001b[0;34m)\u001b[0m\u001b[0;34m\u001b[0m\u001b[0m\n\u001b[0m",
      "\u001b[0;32m<ipython-input-159-ebdbf7123972>\u001b[0m in \u001b[0;36mconectar\u001b[0;34m(self)\u001b[0m\n\u001b[1;32m     14\u001b[0m     \u001b[0;32mdef\u001b[0m \u001b[0mconectar\u001b[0m\u001b[0;34m(\u001b[0m\u001b[0mself\u001b[0m\u001b[0;34m)\u001b[0m\u001b[0;34m:\u001b[0m\u001b[0;34m\u001b[0m\u001b[0m\n\u001b[1;32m     15\u001b[0m         \u001b[0;32mwhile\u001b[0m \u001b[0;32mTrue\u001b[0m\u001b[0;34m:\u001b[0m\u001b[0;34m\u001b[0m\u001b[0m\n\u001b[0;32m---> 16\u001b[0;31m             \u001b[0mself\u001b[0m\u001b[0;34m.\u001b[0m\u001b[0mconnServer\u001b[0m\u001b[0;34m,\u001b[0m \u001b[0mself\u001b[0m\u001b[0;34m.\u001b[0m\u001b[0maddr\u001b[0m \u001b[0;34m=\u001b[0m \u001b[0mself\u001b[0m\u001b[0;34m.\u001b[0m\u001b[0mserver\u001b[0m\u001b[0;34m.\u001b[0m\u001b[0maccept\u001b[0m\u001b[0;34m(\u001b[0m\u001b[0;34m)\u001b[0m\u001b[0;34m\u001b[0m\u001b[0m\n\u001b[0m\u001b[1;32m     17\u001b[0m             \u001b[0mprint\u001b[0m\u001b[0;34m(\u001b[0m\u001b[0;34m'Connected with '\u001b[0m \u001b[0;34m+\u001b[0m \u001b[0mstr\u001b[0m\u001b[0;34m(\u001b[0m\u001b[0mself\u001b[0m\u001b[0;34m.\u001b[0m\u001b[0maddr\u001b[0m\u001b[0;34m[\u001b[0m\u001b[0;36m0\u001b[0m\u001b[0;34m]\u001b[0m\u001b[0;34m)\u001b[0m \u001b[0;34m+\u001b[0m \u001b[0;34m':'\u001b[0m \u001b[0;34m+\u001b[0m \u001b[0mstr\u001b[0m\u001b[0;34m(\u001b[0m\u001b[0mself\u001b[0m\u001b[0;34m.\u001b[0m\u001b[0maddr\u001b[0m\u001b[0;34m[\u001b[0m\u001b[0;36m1\u001b[0m\u001b[0;34m]\u001b[0m\u001b[0;34m)\u001b[0m\u001b[0;34m)\u001b[0m\u001b[0;34m\u001b[0m\u001b[0m\n\u001b[1;32m     18\u001b[0m             \u001b[0;31m#para cada cliente se creara un nuevo thread.\u001b[0m\u001b[0;34m\u001b[0m\u001b[0;34m\u001b[0m\u001b[0m\n",
      "\u001b[0;32m/usr/lib/python3.5/socket.py\u001b[0m in \u001b[0;36maccept\u001b[0;34m(self)\u001b[0m\n\u001b[1;32m    193\u001b[0m         \u001b[0mFor\u001b[0m \u001b[0mIP\u001b[0m \u001b[0msockets\u001b[0m\u001b[0;34m,\u001b[0m \u001b[0mthe\u001b[0m \u001b[0maddress\u001b[0m \u001b[0minfo\u001b[0m \u001b[0;32mis\u001b[0m \u001b[0ma\u001b[0m \u001b[0mpair\u001b[0m \u001b[0;34m(\u001b[0m\u001b[0mhostaddr\u001b[0m\u001b[0;34m,\u001b[0m \u001b[0mport\u001b[0m\u001b[0;34m)\u001b[0m\u001b[0;34m.\u001b[0m\u001b[0;34m\u001b[0m\u001b[0m\n\u001b[1;32m    194\u001b[0m         \"\"\"\n\u001b[0;32m--> 195\u001b[0;31m         \u001b[0mfd\u001b[0m\u001b[0;34m,\u001b[0m \u001b[0maddr\u001b[0m \u001b[0;34m=\u001b[0m \u001b[0mself\u001b[0m\u001b[0;34m.\u001b[0m\u001b[0m_accept\u001b[0m\u001b[0;34m(\u001b[0m\u001b[0;34m)\u001b[0m\u001b[0;34m\u001b[0m\u001b[0m\n\u001b[0m\u001b[1;32m    196\u001b[0m         \u001b[0;31m# If our type has the SOCK_NONBLOCK flag, we shouldn't pass it onto the\u001b[0m\u001b[0;34m\u001b[0m\u001b[0;34m\u001b[0m\u001b[0m\n\u001b[1;32m    197\u001b[0m         \u001b[0;31m# new socket. We do not currently allow passing SOCK_NONBLOCK to\u001b[0m\u001b[0;34m\u001b[0m\u001b[0;34m\u001b[0m\u001b[0m\n",
      "\u001b[0;31mKeyboardInterrupt\u001b[0m: "
     ]
    }
   ],
   "source": [
    "miServidor.conectar()\n"
   ]
  },
  {
   "cell_type": "code",
   "execution_count": 30,
   "metadata": {},
   "outputs": [],
   "source": [
    "class userMultithread:\n",
    "    user_type = \"A\"\n",
    "    user_name = \"user\"\n",
    "    user_mensaje = \"NA\"\n",
    "    user_trabajo = \"NA\"\n",
    "    def __init__(self, nombre, tipo, mensaje, trabajo):\n",
    "        self.user_type =  tipo\n",
    "        self.user_name= nombre\n",
    "        self.user_mensaje = mensaje\n",
    "        self.user_trabajo = trabajo\n",
    "        print( \"New user created NAME: {}   TIPO:{}   \\n\\t MENSAJE: {}\"\\\n",
    "              .format( self.user_name, self.user_type, self.user_mensaje))\n",
    "\n",
    "        \n",
    "    def threader():\n",
    "        while True:\n",
    "            # gets an worker from the queue\n",
    "            worker = q.get()\n",
    "            # Run the example job with the avail worker in queue (thread)\n",
    "            self.portscan(PORT)\n",
    "            # completed with the job\n",
    "            q.task_done()\n",
    "\n",
    "    def createThread(self):\n",
    "             t = threading.Thread(target=self.threader)\n",
    "             # classifying as a daemon, so they will die when the main dies\n",
    "             t.daemon = True\n",
    "             # begins, must come after daemon definition\n",
    "             t.start()\n",
    "            \n",
    "    def portscan(self, port):\n",
    "        s = socket.socket(socket.AF_INET, socket.SOCK_STREAM)\n",
    "        con = s.connect((target,port))\n",
    "        con.send(self.user_mensaje.encode())\n",
    "        con.close()\n",
    "\n",
    "\n",
    "    \n",
    "        "
   ]
  },
  {
   "cell_type": "markdown",
   "metadata": {},
   "source": [
    "En esta celda se ejecutan el programa para hacer la conexion entre usuarios con el servidor.\n",
    "Primero se inicializa el servidor para que acepte el mensaje de los usuarios. Posterioremente se crea un loop en donde en cada iteracion se crea un usuario en un thread diferente. Cada usuario y"
   ]
  },
  {
   "cell_type": "code",
   "execution_count": 31,
   "metadata": {},
   "outputs": [
    {
     "name": "stdout",
     "output_type": "stream",
     "text": [
      "New user created NAME: 0   TIPO:A   \n",
      "\t MENSAJE: MENSAJE\n",
      "New user created NAME: 1   TIPO:A   \n",
      "\t MENSAJE: MENSAJE\n",
      "New user created NAME: 2   TIPO:A   \n",
      "\t MENSAJE: MENSAJE\n",
      "New user created NAME: 3   TIPO:A   \n",
      "\t MENSAJE: MENSAJE\n",
      "New user created NAME: 4   TIPO:A   \n",
      "\t MENSAJE: MENSAJE\n",
      "New user created NAME: 5   TIPO:A   \n",
      "\t MENSAJE: MENSAJE\n",
      "New user created NAME: 6   TIPO:A   \n",
      "\t MENSAJE: MENSAJE\n",
      "New user created NAME: 7   TIPO:A   \n",
      "\t MENSAJE: MENSAJE\n",
      "New user created NAME: 8   TIPO:A   \n",
      "\t MENSAJE: MENSAJE\n",
      "New user created NAME: 9   TIPO:A   \n",
      "\t MENSAJE: MENSAJE\n"
     ]
    },
    {
     "name": "stderr",
     "output_type": "stream",
     "text": [
      "Exception in thread Thread-14:\n",
      "Traceback (most recent call last):\n",
      "  File \"/usr/lib/python3.5/threading.py\", line 914, in _bootstrap_inner\n",
      "    self.run()\n",
      "  File \"/usr/lib/python3.5/threading.py\", line 862, in run\n",
      "    self._target(*self._args, **self._kwargs)\n",
      "TypeError: threader() takes 0 positional arguments but 1 was given\n",
      "\n",
      "Exception in thread Thread-15:\n",
      "Traceback (most recent call last):\n",
      "  File \"/usr/lib/python3.5/threading.py\", line 914, in _bootstrap_inner\n",
      "    self.run()\n",
      "  File \"/usr/lib/python3.5/threading.py\", line 862, in run\n",
      "    self._target(*self._args, **self._kwargs)\n",
      "TypeError: threader() takes 0 positional arguments but 1 was given\n",
      "\n",
      "Exception in thread Thread-16:\n",
      "Traceback (most recent call last):\n",
      "  File \"/usr/lib/python3.5/threading.py\", line 914, in _bootstrap_inner\n",
      "    self.run()\n",
      "  File \"/usr/lib/python3.5/threading.py\", line 862, in run\n",
      "    self._target(*self._args, **self._kwargs)\n",
      "TypeError: threader() takes 0 positional arguments but 1 was given\n",
      "\n",
      "Exception in thread Thread-17:\n",
      "Traceback (most recent call last):\n",
      "  File \"/usr/lib/python3.5/threading.py\", line 914, in _bootstrap_inner\n",
      "    self.run()\n",
      "  File \"/usr/lib/python3.5/threading.py\", line 862, in run\n",
      "    self._target(*self._args, **self._kwargs)\n",
      "TypeError: threader() takes 0 positional arguments but 1 was given\n",
      "\n",
      "Exception in thread Thread-18:\n",
      "Traceback (most recent call last):\n",
      "  File \"/usr/lib/python3.5/threading.py\", line 914, in _bootstrap_inner\n",
      "    self.run()\n",
      "  File \"/usr/lib/python3.5/threading.py\", line 862, in run\n",
      "    self._target(*self._args, **self._kwargs)\n",
      "TypeError: threader() takes 0 positional arguments but 1 was given\n",
      "\n",
      "Exception in thread Thread-19:\n",
      "Traceback (most recent call last):\n",
      "  File \"/usr/lib/python3.5/threading.py\", line 914, in _bootstrap_inner\n",
      "    self.run()\n",
      "  File \"/usr/lib/python3.5/threading.py\", line 862, in run\n",
      "    self._target(*self._args, **self._kwargs)\n",
      "TypeError: threader() takes 0 positional arguments but 1 was given\n",
      "\n",
      "Exception in thread Thread-20:\n",
      "Traceback (most recent call last):\n",
      "  File \"/usr/lib/python3.5/threading.py\", line 914, in _bootstrap_inner\n",
      "    self.run()\n",
      "  File \"/usr/lib/python3.5/threading.py\", line 862, in run\n",
      "    self._target(*self._args, **self._kwargs)\n",
      "TypeError: threader() takes 0 positional arguments but 1 was given\n",
      "\n",
      "Exception in thread Thread-21:\n",
      "Traceback (most recent call last):\n",
      "  File \"/usr/lib/python3.5/threading.py\", line 914, in _bootstrap_inner\n",
      "    self.run()\n",
      "  File \"/usr/lib/python3.5/threading.py\", line 862, in run\n",
      "    self._target(*self._args, **self._kwargs)\n",
      "TypeError: threader() takes 0 positional arguments but 1 was given\n",
      "Exception in thread Thread-22:\n",
      "Traceback (most recent call last):\n",
      "  File \"/usr/lib/python3.5/threading.py\", line 914, in _bootstrap_inner\n",
      "    self.run()\n",
      "  File \"/usr/lib/python3.5/threading.py\", line 862, in run\n",
      "    self._target(*self._args, **self._kwargs)\n",
      "TypeError: threader() takes 0 positional arguments but 1 was given\n",
      "Exception in thread Thread-23:\n",
      "Traceback (most recent call last):\n",
      "  File \"/usr/lib/python3.5/threading.py\", line 914, in _bootstrap_inner\n",
      "    self.run()\n",
      "  File \"/usr/lib/python3.5/threading.py\", line 862, in run\n",
      "    self._target(*self._args, **self._kwargs)\n",
      "TypeError: threader() takes 0 positional arguments but 1 was given\n",
      "\n",
      "\n",
      "\n"
     ]
    }
   ],
   "source": [
    "\n",
    "\n",
    "# a print_lock is what is used to prevent \"double\" modification of shared variables.\n",
    "# this is used so while one thread is using a variable, others cannot access\n",
    "# it. Once done, the thread releases the print_lock.\n",
    "# to use it, you want to specify a print_lock per thing you wish to print_lock.\n",
    "print_lock = threading.Lock()\n",
    "target = LOCALHOST\n",
    "#ip = socket.gethostbyname(target)\n",
    "\n",
    "q = Queue()\n",
    "tipo = \"A\"\n",
    "mensaje=\"MENSAJE\"\n",
    "trabajo= \"TRABAJO\"\n",
    "\n",
    "\n",
    "for user in range(NUM_USERS):\n",
    "     newUser =  userMultithread( user, tipo, mensaje, trabajo )\n",
    "     newUser.createThread()\n",
    "     \n",
    "\n",
    "\n",
    "\n"
   ]
  },
  {
   "cell_type": "code",
   "execution_count": 32,
   "metadata": {},
   "outputs": [
    {
     "ename": "KeyboardInterrupt",
     "evalue": "",
     "output_type": "error",
     "traceback": [
      "\u001b[0;31m---------------------------------------------------------------------------\u001b[0m",
      "\u001b[0;31mKeyboardInterrupt\u001b[0m                         Traceback (most recent call last)",
      "\u001b[0;32m<ipython-input-32-6242fc6736bd>\u001b[0m in \u001b[0;36m<module>\u001b[0;34m()\u001b[0m\n\u001b[1;32m      5\u001b[0m     \u001b[0mq\u001b[0m\u001b[0;34m.\u001b[0m\u001b[0mput\u001b[0m\u001b[0;34m(\u001b[0m\u001b[0mworker\u001b[0m\u001b[0;34m)\u001b[0m\u001b[0;34m\u001b[0m\u001b[0m\n\u001b[1;32m      6\u001b[0m \u001b[0;31m# wait until the thread terminates.\u001b[0m\u001b[0;34m\u001b[0m\u001b[0;34m\u001b[0m\u001b[0m\n\u001b[0;32m----> 7\u001b[0;31m \u001b[0mq\u001b[0m\u001b[0;34m.\u001b[0m\u001b[0mjoin\u001b[0m\u001b[0;34m(\u001b[0m\u001b[0;34m)\u001b[0m\u001b[0;34m\u001b[0m\u001b[0m\n\u001b[0m",
      "\u001b[0;32m/usr/lib/python3.5/queue.py\u001b[0m in \u001b[0;36mjoin\u001b[0;34m(self)\u001b[0m\n\u001b[1;32m     81\u001b[0m         \u001b[0;32mwith\u001b[0m \u001b[0mself\u001b[0m\u001b[0;34m.\u001b[0m\u001b[0mall_tasks_done\u001b[0m\u001b[0;34m:\u001b[0m\u001b[0;34m\u001b[0m\u001b[0m\n\u001b[1;32m     82\u001b[0m             \u001b[0;32mwhile\u001b[0m \u001b[0mself\u001b[0m\u001b[0;34m.\u001b[0m\u001b[0munfinished_tasks\u001b[0m\u001b[0;34m:\u001b[0m\u001b[0;34m\u001b[0m\u001b[0m\n\u001b[0;32m---> 83\u001b[0;31m                 \u001b[0mself\u001b[0m\u001b[0;34m.\u001b[0m\u001b[0mall_tasks_done\u001b[0m\u001b[0;34m.\u001b[0m\u001b[0mwait\u001b[0m\u001b[0;34m(\u001b[0m\u001b[0;34m)\u001b[0m\u001b[0;34m\u001b[0m\u001b[0m\n\u001b[0m\u001b[1;32m     84\u001b[0m \u001b[0;34m\u001b[0m\u001b[0m\n\u001b[1;32m     85\u001b[0m     \u001b[0;32mdef\u001b[0m \u001b[0mqsize\u001b[0m\u001b[0;34m(\u001b[0m\u001b[0mself\u001b[0m\u001b[0;34m)\u001b[0m\u001b[0;34m:\u001b[0m\u001b[0;34m\u001b[0m\u001b[0m\n",
      "\u001b[0;32m/usr/lib/python3.5/threading.py\u001b[0m in \u001b[0;36mwait\u001b[0;34m(self, timeout)\u001b[0m\n\u001b[1;32m    291\u001b[0m         \u001b[0;32mtry\u001b[0m\u001b[0;34m:\u001b[0m    \u001b[0;31m# restore state no matter what (e.g., KeyboardInterrupt)\u001b[0m\u001b[0;34m\u001b[0m\u001b[0m\n\u001b[1;32m    292\u001b[0m             \u001b[0;32mif\u001b[0m \u001b[0mtimeout\u001b[0m \u001b[0;32mis\u001b[0m \u001b[0;32mNone\u001b[0m\u001b[0;34m:\u001b[0m\u001b[0;34m\u001b[0m\u001b[0m\n\u001b[0;32m--> 293\u001b[0;31m                 \u001b[0mwaiter\u001b[0m\u001b[0;34m.\u001b[0m\u001b[0macquire\u001b[0m\u001b[0;34m(\u001b[0m\u001b[0;34m)\u001b[0m\u001b[0;34m\u001b[0m\u001b[0m\n\u001b[0m\u001b[1;32m    294\u001b[0m                 \u001b[0mgotit\u001b[0m \u001b[0;34m=\u001b[0m \u001b[0;32mTrue\u001b[0m\u001b[0;34m\u001b[0m\u001b[0m\n\u001b[1;32m    295\u001b[0m             \u001b[0;32melse\u001b[0m\u001b[0;34m:\u001b[0m\u001b[0;34m\u001b[0m\u001b[0m\n",
      "\u001b[0;31mKeyboardInterrupt\u001b[0m: "
     ]
    }
   ],
   "source": [
    "#start = time.time()\n",
    "\n",
    "# 100 jobs assigned.\n",
    "for worker in range(1,100):\n",
    "    q.put(worker)\n",
    "# wait until the thread terminates.\n",
    "q.join()\n"
   ]
  },
  {
   "cell_type": "code",
   "execution_count": null,
   "metadata": {},
   "outputs": [],
   "source": []
  }
 ],
 "metadata": {
  "kernelspec": {
   "display_name": "Python 3",
   "language": "python",
   "name": "python3"
  },
  "language_info": {
   "codemirror_mode": {
    "name": "ipython",
    "version": 3
   },
   "file_extension": ".py",
   "mimetype": "text/x-python",
   "name": "python",
   "nbconvert_exporter": "python",
   "pygments_lexer": "ipython3",
   "version": "3.5.2"
  }
 },
 "nbformat": 4,
 "nbformat_minor": 2
}
